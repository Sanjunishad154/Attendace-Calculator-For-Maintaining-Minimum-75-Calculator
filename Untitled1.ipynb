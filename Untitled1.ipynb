{
  "nbformat": 4,
  "nbformat_minor": 0,
  "metadata": {
    "colab": {
      "provenance": [],
      "authorship_tag": "ABX9TyPaBBCzueGu3Pbcm1hvOnKZ",
      "include_colab_link": true
    },
    "kernelspec": {
      "name": "python3",
      "display_name": "Python 3"
    },
    "language_info": {
      "name": "python"
    }
  },
  "cells": [
    {
      "cell_type": "markdown",
      "metadata": {
        "id": "view-in-github",
        "colab_type": "text"
      },
      "source": [
        "<a href=\"https://colab.research.google.com/github/Sanjunishad154/Attendace-Calculator-For-Maintaining-Minimum-75-Calculator/blob/main/Untitled1.ipynb\" target=\"_parent\"><img src=\"https://colab.research.google.com/assets/colab-badge.svg\" alt=\"Open In Colab\"/></a>"
      ]
    },
    {
      "cell_type": "markdown",
      "source": [
        "**Attendace Calculator For Maintaining Minimum 75% Calculator**"
      ],
      "metadata": {
        "id": "ZivebdlSGv3w"
      }
    },
    {
      "cell_type": "code",
      "source": [
        "import math\n",
        "\n",
        "def calculate_attendance_to_reach_75(attended, held, target_percent=0.75, max_reasonable_future=1000):\n",
        "    if attended > held:\n",
        "        return {\"error\": \"Attended classes can't be more than held classes.\"}\n",
        "\n",
        "    current_percent = attended / held\n",
        "\n",
        "    if current_percent >= target_percent:\n",
        "        can_miss = attended - target_percent * held\n",
        "        return {\n",
        "            \"status\": \"ABOVE\",\n",
        "            \"current_percentage\": round(current_percent * 100, 2),\n",
        "            \"message\": f\"You are above 75%. You can miss {math.floor(can_miss)} more classes.\"\n",
        "        }\n",
        "\n",
        "    x = (target_percent * held - attended) / (1 - target_percent)\n",
        "    x = math.ceil(x)\n",
        "    total_after_future = held + x\n",
        "\n",
        "    if x > max_reasonable_future:\n",
        "        return {\n",
        "            \"status\": \"IMPOSSIBLE\",\n",
        "            \"current_percentage\": round(current_percent * 100, 2),\n",
        "            \"message\": (\n",
        "                f\" You would need to attend {x} classes in a row — this is likely not realistic.\"\n",
        "            ),\n",
        "            \"classes_needed\": x,\n",
        "            \"future_classes_needed\": x,\n",
        "            \"total_classes_required\": total_after_future\n",
        "        }\n",
        "\n",
        "    return {\n",
        "        \"status\": \"BELOW\",\n",
        "        \"current_percentage\": round(current_percent * 100, 2),\n",
        "        \"classes_needed\": x,\n",
        "        \"future_classes_needed\": x,\n",
        "        \"total_classes_required\": total_after_future,\n",
        "        \"message\": (\n",
        "            f\"! You need to attend {x} more classes *from now* without missing any \"\n",
        "            f\"to reach 75% overall attendance when {total_after_future} classes have been held.\"\n",
        "        )\n",
        "    }\n",
        "\n",
        "#  User Input\n",
        "try:\n",
        "    held = int(input(\"Enter number of classes held till now: \"))\n",
        "    attended = int(input(\"Enter number of classes you have attended: \"))\n",
        "\n",
        "    result = calculate_attendance_to_reach_75(attended, held)\n",
        "\n",
        "    if \"error\" in result:\n",
        "        print(\"ERROR\", result[\"error\"])\n",
        "    else:\n",
        "        print(\"\\n Result:\")\n",
        "        print(f\"Current Attendance: {result['current_percentage']}%\")\n",
        "        print(f\"Status: {result['status']}\")\n",
        "        print(result[\"message\"])\n",
        "        if 'total_classes_required' in result:\n",
        "            print(f\"Total classes needed in semester: {result['total_classes_required']}\")\n",
        "        if 'future_classes_needed' in result:\n",
        "            print(f\" Classes you must attend from today: {result['future_classes_needed']}\")\n",
        "\n",
        "except ValueError:\n",
        "    print(\" Please enter valid numbers.\")\n"
      ],
      "metadata": {
        "collapsed": true,
        "id": "WoLG6OpIYW4t"
      },
      "execution_count": null,
      "outputs": []
    },
    {
      "cell_type": "code",
      "source": [],
      "metadata": {
        "id": "4UOOH0vGY247"
      },
      "execution_count": null,
      "outputs": []
    }
  ]
}